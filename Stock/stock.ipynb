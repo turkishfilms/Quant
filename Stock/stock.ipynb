{
 "cells": [
  {
   "cell_type": "code",
   "execution_count": null,
   "metadata": {},
   "outputs": [],
   "source": [
    "import pandas as pd\n",
    "import numpy as np\n",
    "import json\n",
    "import requests\n",
    "from api_keys import stockorg_key "
   ]
  },
  {
   "cell_type": "code",
   "execution_count": null,
   "metadata": {},
   "outputs": [],
   "source": [
    "base_url = r\"https://api.stockdata.org/v1/data/eod?\"\n",
    "symbols = [\"AAPL\"]\n",
    "url = base_url + f\"symbols={symbols[0]}&api_token={stockorg_key}&date_from=2000\""
   ]
  },
  {
   "cell_type": "code",
   "execution_count": null,
   "metadata": {},
   "outputs": [],
   "source": [
    "req = requests.get(url)"
   ]
  },
  {
   "cell_type": "code",
   "execution_count": null,
   "metadata": {},
   "outputs": [],
   "source": [
    "res = json.loads(req.content)"
   ]
  },
  {
   "cell_type": "code",
   "execution_count": null,
   "metadata": {},
   "outputs": [],
   "source": [
    "stock_data = pd.DataFrame(res[\"data\"])"
   ]
  },
  {
   "cell_type": "code",
   "execution_count": null,
   "metadata": {},
   "outputs": [],
   "source": [
    "stock_data.plot(kind=\"scatter\", x=\"date\", y=\"close\")"
   ]
  },
  {
   "cell_type": "code",
   "execution_count": null,
   "metadata": {},
   "outputs": [],
   "source": [
    "indicators = [\"MACD\",\"RSI\",\"VWAP\",\"12EMA\",\"26EMA\",\"50EMA\",\"200EMA\",\"12SMA\",\"26SMA\",\"50SMA\",\"200SMA\"]"
   ]
  },
  {
   "cell_type": "code",
   "execution_count": null,
   "metadata": {},
   "outputs": [],
   "source": [
    "# stock_data[\"MACD\"] = \"\"\n",
    "more_stock_data = pd.concat([stock_data,pd.DataFrame(columns=list(indicators))])\n",
    "more_stock_data[\"date\"] = more_stock_data[\"date\"].str[:10] \n",
    "more_stock_data.head()"
   ]
  },
  {
   "cell_type": "code",
   "execution_count": null,
   "metadata": {},
   "outputs": [],
   "source": [
    "# end = date\n",
    "def ema(df,period, end,mult):\n",
    "    closingprice = df[] end[closing]#here\n",
    "    multiplier =  mult/(1+period) \n",
    "    return closing * multiplier + ema(df,period,end-1,mult) * (1-multiplier)"
   ]
  }
 ],
 "metadata": {
  "language_info": {
   "name": "python"
  },
  "orig_nbformat": 4
 },
 "nbformat": 4,
 "nbformat_minor": 2
}
